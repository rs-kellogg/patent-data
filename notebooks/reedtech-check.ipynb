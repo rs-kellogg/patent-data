{
 "cells": [
  {
   "cell_type": "code",
   "execution_count": 1,
   "metadata": {},
   "outputs": [],
   "source": [
    "from pathlib import Path\n",
    "from requests import get\n",
    "from requests.exceptions import RequestException\n",
    "from contextlib import closing\n",
    "from bs4 import BeautifulSoup\n",
    "import urllib\n",
    "import pandas as pd"
   ]
  },
  {
   "cell_type": "code",
   "execution_count": 2,
   "metadata": {},
   "outputs": [],
   "source": [
    "def simple_get(url):\n",
    "    \"\"\"\n",
    "    Attempts to get the content at `url` by making an HTTP GET request.\n",
    "    If the content-type of response is some kind of HTML/XML, return the\n",
    "    text content, otherwise return None.\n",
    "    \"\"\"\n",
    "    try:\n",
    "        with closing(get(url, stream=True)) as resp:\n",
    "            if is_good_response(resp):\n",
    "                return resp.content\n",
    "            else:\n",
    "                return None\n",
    "\n",
    "    except RequestException as e:\n",
    "        log_error('Error during requests to {0} : {1}'.format(url, str(e)))\n",
    "        return None\n",
    "\n",
    "\n",
    "def is_good_response(resp):\n",
    "    \"\"\"\n",
    "    Returns True if the response seems to be HTML, False otherwise.\n",
    "    \"\"\"\n",
    "    content_type = resp.headers['Content-Type'].lower()\n",
    "    return (resp.status_code == 200 \n",
    "            and content_type is not None \n",
    "            and content_type.find('html') > -1)\n",
    "\n",
    "\n",
    "def log_error(e):\n",
    "    \"\"\"\n",
    "    It is always a good idea to log errors. \n",
    "    This function just prints them, but you can\n",
    "    make it do anything.\n",
    "    \"\"\"\n",
    "    print(e)"
   ]
  },
  {
   "cell_type": "code",
   "execution_count": 4,
   "metadata": {},
   "outputs": [],
   "source": [
    "raw_html = simple_get('https://patents.reedtech.com/pgyb.php#15874')\n",
    "html = BeautifulSoup(raw_html, 'html.parser')\n",
    "# with Path(\"reedtech-downloads.html\") as p:\n",
    "#     p.write_bytes(raw_html)"
   ]
  },
  {
   "cell_type": "code",
   "execution_count": 5,
   "metadata": {},
   "outputs": [],
   "source": [
    "entries = []\n",
    "\n",
    "trs = [tr for tr in html.select('tr')]\n",
    "for tr in trs:\n",
    "    tds = [td for td in tr.select('td')]\n",
    "    if len(tds) == 3:\n",
    "        td1 = tds[0]\n",
    "        td2 = tds[1]\n",
    "        td3 = tds[2]\n",
    "        if td1.a and td1.a['href'].endswith('.tar'):\n",
    "            entries.append((td1.text, td2.text, td3.text, td1.a['href']))"
   ]
  },
  {
   "cell_type": "code",
   "execution_count": 10,
   "metadata": {},
   "outputs": [
    {
     "name": "stdout",
     "output_type": "stream",
     "text": [
      "size (TB): 9.600990700032\n"
     ]
    }
   ],
   "source": [
    "num_bytes = [int(n[1].replace(\",\", \"\")) for n in entries]\n",
    "print(f\"size (TB): {sum(num_bytes)/1e12}\")"
   ]
  },
  {
   "cell_type": "code",
   "execution_count": 11,
   "metadata": {},
   "outputs": [
    {
     "name": "stdout",
     "output_type": "stream",
     "text": [
      "('grant_yb2_20200114.tar', '10,051,976,704', '01/14/2020', 'downloads/GrantYellowBook/2020/grant_yb2_20200114.tar')\n",
      "('grant_yb2_20200107.tar', '13,574,686,208', '01/07/2020', 'downloads/GrantYellowBook/2020/grant_yb2_20200107.tar')\n",
      "('grant_yb2_20191231.tar', '13,850,871,808', '12/31/2019', 'downloads/GrantYellowBook/2019/grant_yb2_20191231.tar')\n",
      "('grant_yb2_20191224.tar', '9,346,679,296', '12/24/2019', 'downloads/GrantYellowBook/2019/grant_yb2_20191224.tar')\n",
      "('grant_yb2_20191217.tar', '9,820,823,040', '12/17/2019', 'downloads/GrantYellowBook/2019/grant_yb2_20191217.tar')\n",
      "('grant_yb2_20191210.tar', '13,638,831,616', '12/10/2019', 'downloads/GrantYellowBook/2019/grant_yb2_20191210.tar')\n",
      "('grant_yb2_20191203.tar', '13,144,777,216', '12/03/2019', 'downloads/GrantYellowBook/2019/grant_yb2_20191203.tar')\n",
      "('grant_yb2_20191126.tar', '12,359,827,968', '11/26/2019', 'downloads/GrantYellowBook/2019/grant_yb2_20191126.tar')\n",
      "('grant_yb2_20191119.tar', '12,700,339,200', '11/19/2019', 'downloads/GrantYellowBook/2019/grant_yb2_20191119.tar')\n",
      "('grant_yb2_20191112.tar', '13,474,882,048', '11/12/2019', 'downloads/GrantYellowBook/2019/grant_yb2_20191112.tar')\n"
     ]
    }
   ],
   "source": [
    "for i in range(10):\n",
    "    print(entries[i])"
   ]
  },
  {
   "cell_type": "code",
   "execution_count": 14,
   "metadata": {},
   "outputs": [],
   "source": [
    "df = pd.DataFrame(entries, columns =['filename', 'size', 'date', 'url']) "
   ]
  },
  {
   "cell_type": "code",
   "execution_count": 15,
   "metadata": {},
   "outputs": [
    {
     "data": {
      "text/html": [
       "<div>\n",
       "<style scoped>\n",
       "    .dataframe tbody tr th:only-of-type {\n",
       "        vertical-align: middle;\n",
       "    }\n",
       "\n",
       "    .dataframe tbody tr th {\n",
       "        vertical-align: top;\n",
       "    }\n",
       "\n",
       "    .dataframe thead th {\n",
       "        text-align: right;\n",
       "    }\n",
       "</style>\n",
       "<table border=\"1\" class=\"dataframe\">\n",
       "  <thead>\n",
       "    <tr style=\"text-align: right;\">\n",
       "      <th></th>\n",
       "      <th>filename</th>\n",
       "      <th>size</th>\n",
       "      <th>date</th>\n",
       "      <th>url</th>\n",
       "    </tr>\n",
       "  </thead>\n",
       "  <tbody>\n",
       "    <tr>\n",
       "      <th>0</th>\n",
       "      <td>grant_yb2_20200114.tar</td>\n",
       "      <td>10,051,976,704</td>\n",
       "      <td>01/14/2020</td>\n",
       "      <td>downloads/GrantYellowBook/2020/grant_yb2_20200...</td>\n",
       "    </tr>\n",
       "    <tr>\n",
       "      <th>1</th>\n",
       "      <td>grant_yb2_20200107.tar</td>\n",
       "      <td>13,574,686,208</td>\n",
       "      <td>01/07/2020</td>\n",
       "      <td>downloads/GrantYellowBook/2020/grant_yb2_20200...</td>\n",
       "    </tr>\n",
       "    <tr>\n",
       "      <th>2</th>\n",
       "      <td>grant_yb2_20191231.tar</td>\n",
       "      <td>13,850,871,808</td>\n",
       "      <td>12/31/2019</td>\n",
       "      <td>downloads/GrantYellowBook/2019/grant_yb2_20191...</td>\n",
       "    </tr>\n",
       "    <tr>\n",
       "      <th>3</th>\n",
       "      <td>grant_yb2_20191224.tar</td>\n",
       "      <td>9,346,679,296</td>\n",
       "      <td>12/24/2019</td>\n",
       "      <td>downloads/GrantYellowBook/2019/grant_yb2_20191...</td>\n",
       "    </tr>\n",
       "    <tr>\n",
       "      <th>4</th>\n",
       "      <td>grant_yb2_20191217.tar</td>\n",
       "      <td>9,820,823,040</td>\n",
       "      <td>12/17/2019</td>\n",
       "      <td>downloads/GrantYellowBook/2019/grant_yb2_20191...</td>\n",
       "    </tr>\n",
       "    <tr>\n",
       "      <th>...</th>\n",
       "      <td>...</td>\n",
       "      <td>...</td>\n",
       "      <td>...</td>\n",
       "      <td>...</td>\n",
       "    </tr>\n",
       "    <tr>\n",
       "      <th>3460</th>\n",
       "      <td>B34193.tar</td>\n",
       "      <td>66,723,840</td>\n",
       "      <td>01/01/2013</td>\n",
       "      <td>downloads/GrantYellowBook/2013/B34193.tar</td>\n",
       "    </tr>\n",
       "    <tr>\n",
       "      <th>3461</th>\n",
       "      <td>B34192.tar</td>\n",
       "      <td>66,160,640</td>\n",
       "      <td>01/01/2013</td>\n",
       "      <td>downloads/GrantYellowBook/2013/B34192.tar</td>\n",
       "    </tr>\n",
       "    <tr>\n",
       "      <th>3462</th>\n",
       "      <td>B34189.tar</td>\n",
       "      <td>13,393,920</td>\n",
       "      <td>01/01/2013</td>\n",
       "      <td>downloads/GrantYellowBook/2013/B34189.tar</td>\n",
       "    </tr>\n",
       "    <tr>\n",
       "      <th>3463</th>\n",
       "      <td>B34182.tar</td>\n",
       "      <td>76,728,320</td>\n",
       "      <td>01/01/2013</td>\n",
       "      <td>downloads/GrantYellowBook/2013/B34182.tar</td>\n",
       "    </tr>\n",
       "    <tr>\n",
       "      <th>3464</th>\n",
       "      <td>B33921.tar</td>\n",
       "      <td>6,901,760</td>\n",
       "      <td>01/01/2013</td>\n",
       "      <td>downloads/GrantYellowBook/2013/B33921.tar</td>\n",
       "    </tr>\n",
       "  </tbody>\n",
       "</table>\n",
       "<p>3465 rows × 4 columns</p>\n",
       "</div>"
      ],
      "text/plain": [
       "                    filename            size        date  \\\n",
       "0     grant_yb2_20200114.tar  10,051,976,704  01/14/2020   \n",
       "1     grant_yb2_20200107.tar  13,574,686,208  01/07/2020   \n",
       "2     grant_yb2_20191231.tar  13,850,871,808  12/31/2019   \n",
       "3     grant_yb2_20191224.tar   9,346,679,296  12/24/2019   \n",
       "4     grant_yb2_20191217.tar   9,820,823,040  12/17/2019   \n",
       "...                      ...             ...         ...   \n",
       "3460              B34193.tar      66,723,840  01/01/2013   \n",
       "3461              B34192.tar      66,160,640  01/01/2013   \n",
       "3462              B34189.tar      13,393,920  01/01/2013   \n",
       "3463              B34182.tar      76,728,320  01/01/2013   \n",
       "3464              B33921.tar       6,901,760  01/01/2013   \n",
       "\n",
       "                                                    url  \n",
       "0     downloads/GrantYellowBook/2020/grant_yb2_20200...  \n",
       "1     downloads/GrantYellowBook/2020/grant_yb2_20200...  \n",
       "2     downloads/GrantYellowBook/2019/grant_yb2_20191...  \n",
       "3     downloads/GrantYellowBook/2019/grant_yb2_20191...  \n",
       "4     downloads/GrantYellowBook/2019/grant_yb2_20191...  \n",
       "...                                                 ...  \n",
       "3460          downloads/GrantYellowBook/2013/B34193.tar  \n",
       "3461          downloads/GrantYellowBook/2013/B34192.tar  \n",
       "3462          downloads/GrantYellowBook/2013/B34189.tar  \n",
       "3463          downloads/GrantYellowBook/2013/B34182.tar  \n",
       "3464          downloads/GrantYellowBook/2013/B33921.tar  \n",
       "\n",
       "[3465 rows x 4 columns]"
      ]
     },
     "execution_count": 15,
     "metadata": {},
     "output_type": "execute_result"
    }
   ],
   "source": [
    "df"
   ]
  },
  {
   "cell_type": "code",
   "execution_count": null,
   "metadata": {},
   "outputs": [],
   "source": []
  }
 ],
 "metadata": {
  "kernelspec": {
   "display_name": "Python 3",
   "language": "python",
   "name": "python3"
  },
  "language_info": {
   "codemirror_mode": {
    "name": "ipython",
    "version": 3
   },
   "file_extension": ".py",
   "mimetype": "text/x-python",
   "name": "python",
   "nbconvert_exporter": "python",
   "pygments_lexer": "ipython3",
   "version": "3.7.6"
  }
 },
 "nbformat": 4,
 "nbformat_minor": 4
}
