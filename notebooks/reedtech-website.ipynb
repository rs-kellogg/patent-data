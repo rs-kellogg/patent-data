{
 "cells": [
  {
   "cell_type": "code",
   "execution_count": 1,
   "metadata": {},
   "outputs": [],
   "source": [
    "from requests import get\n",
    "from requests.exceptions import RequestException\n",
    "from contextlib import closing\n",
    "from bs4 import BeautifulSoup\n",
    "import urllib"
   ]
  },
  {
   "cell_type": "code",
   "execution_count": 2,
   "metadata": {},
   "outputs": [],
   "source": [
    "def simple_get(url):\n",
    "    \"\"\"\n",
    "    Attempts to get the content at `url` by making an HTTP GET request.\n",
    "    If the content-type of response is some kind of HTML/XML, return the\n",
    "    text content, otherwise return None.\n",
    "    \"\"\"\n",
    "    try:\n",
    "        with closing(get(url, stream=True)) as resp:\n",
    "            if is_good_response(resp):\n",
    "                return resp.content\n",
    "            else:\n",
    "                return None\n",
    "\n",
    "    except RequestException as e:\n",
    "        log_error('Error during requests to {0} : {1}'.format(url, str(e)))\n",
    "        return None\n",
    "\n",
    "\n",
    "def is_good_response(resp):\n",
    "    \"\"\"\n",
    "    Returns True if the response seems to be HTML, False otherwise.\n",
    "    \"\"\"\n",
    "    content_type = resp.headers['Content-Type'].lower()\n",
    "    return (resp.status_code == 200 \n",
    "            and content_type is not None \n",
    "            and content_type.find('html') > -1)\n",
    "\n",
    "\n",
    "def log_error(e):\n",
    "    \"\"\"\n",
    "    It is always a good idea to log errors. \n",
    "    This function just prints them, but you can\n",
    "    make it do anything.\n",
    "    \"\"\"\n",
    "    print(e)"
   ]
  },
  {
   "cell_type": "code",
   "execution_count": 3,
   "metadata": {},
   "outputs": [],
   "source": [
    "raw_html = simple_get('https://patents.reedtech.com/pgyb.php#15874')"
   ]
  },
  {
   "cell_type": "code",
   "execution_count": 4,
   "metadata": {},
   "outputs": [],
   "source": [
    "html = BeautifulSoup(raw_html, 'html.parser')"
   ]
  },
  {
   "cell_type": "code",
   "execution_count": 5,
   "metadata": {},
   "outputs": [],
   "source": [
    "tarballs = [td.a['href'] for td in html.select('td') if td.a and td.a['href'].endswith('.tar')]"
   ]
  },
  {
   "cell_type": "code",
   "execution_count": 18,
   "metadata": {},
   "outputs": [
    {
     "name": "stdout",
     "output_type": "stream",
     "text": [
      "https://patents.reedtech.com//downloads/GrantYellowBook/1790-1900/18981206_19000313_yb2_D00016.tar\n",
      "https://patents.reedtech.com//downloads/GrantYellowBook/1790-1900/18970615_18981129_yb2_D00015.tar\n",
      "https://patents.reedtech.com//downloads/GrantYellowBook/1790-1900/18960121_18970608_yb2_D00014.tar\n",
      "https://patents.reedtech.com//downloads/GrantYellowBook/1790-1900/18940703_18960114_yb2_D00013.tar\n",
      "https://patents.reedtech.com//downloads/GrantYellowBook/1790-1900/18930103_18940626_yb2_D00012.tar\n",
      "https://patents.reedtech.com//downloads/GrantYellowBook/1790-1900/18910609_18921227_yb2_D00011.tar\n",
      "https://patents.reedtech.com//downloads/GrantYellowBook/1790-1900/18891224_18910602_yb2_D00010.tar\n",
      "https://patents.reedtech.com//downloads/GrantYellowBook/1790-1900/18880417_18891217_yb2_D00009.tar\n",
      "https://patents.reedtech.com//downloads/GrantYellowBook/1790-1900/18860518_18880410_yb2_D00008.tar\n",
      "https://patents.reedtech.com//downloads/GrantYellowBook/1790-1900/18840701_18860511_yb2_D00007.tar\n",
      "https://patents.reedtech.com//downloads/GrantYellowBook/1790-1900/18820620_18840624_yb2_D00006.tar\n",
      "https://patents.reedtech.com//downloads/GrantYellowBook/1790-1900/18790325_18820613_yb2_D00005.tar\n",
      "https://patents.reedtech.com//downloads/GrantYellowBook/1790-1900/18750216_18790318_yb2_D00004.tar\n",
      "https://patents.reedtech.com//downloads/GrantYellowBook/1790-1900/18700830_18750209_yb2_D00003.tar\n",
      "https://patents.reedtech.com//downloads/GrantYellowBook/1790-1900/18641108_18700823_yb2_D00002.tar\n"
     ]
    }
   ],
   "source": [
    "url_base = \"https://patents.reedtech.com/\"\n",
    "for t in tarballs:\n",
    "    parts = t.split('/')\n",
    "    filename = parts[-1]\n",
    "    if filename.startswith('18'):\n",
    "        print(f\"{url_base}/{t}\")"
   ]
  },
  {
   "cell_type": "code",
   "execution_count": 14,
   "metadata": {},
   "outputs": [],
   "source": [
    "num_bytes = 0\n",
    "for td in html.select('td'):\n",
    "    if td.text.isnumeric():\n",
    "        num_bytes += int(td.text)"
   ]
  },
  {
   "cell_type": "code",
   "execution_count": 15,
   "metadata": {},
   "outputs": [
    {
     "name": "stdout",
     "output_type": "stream",
     "text": [
      "size (TB): 0.0\n"
     ]
    }
   ],
   "source": [
    "print(f\"size (TB): {num_bytes/1e12}\")"
   ]
  },
  {
   "cell_type": "code",
   "execution_count": null,
   "metadata": {},
   "outputs": [],
   "source": []
  }
 ],
 "metadata": {
  "kernelspec": {
   "display_name": "Python 3",
   "language": "python",
   "name": "python3"
  },
  "language_info": {
   "codemirror_mode": {
    "name": "ipython",
    "version": 3
   },
   "file_extension": ".py",
   "mimetype": "text/x-python",
   "name": "python",
   "nbconvert_exporter": "python",
   "pygments_lexer": "ipython3",
   "version": "3.7.3"
  }
 },
 "nbformat": 4,
 "nbformat_minor": 4
}
