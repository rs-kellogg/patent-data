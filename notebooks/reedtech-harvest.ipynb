{
 "cells": [
  {
   "cell_type": "code",
   "execution_count": 1,
   "metadata": {},
   "outputs": [],
   "source": [
    "from requests import get\n",
    "from requests.exceptions import RequestException\n",
    "from contextlib import closing\n",
    "from bs4 import BeautifulSoup\n",
    "import urllib\n",
    "from patent.harvest import *"
   ]
  },
  {
   "cell_type": "code",
   "execution_count": 2,
   "metadata": {},
   "outputs": [],
   "source": [
    "raw_html = simple_get('https://patents.reedtech.com/pgyb.php#15874')"
   ]
  },
  {
   "cell_type": "code",
   "execution_count": 3,
   "metadata": {},
   "outputs": [],
   "source": [
    "html = BeautifulSoup(raw_html, 'html.parser')"
   ]
  },
  {
   "cell_type": "code",
   "execution_count": 4,
   "metadata": {},
   "outputs": [],
   "source": [
    "tarballs = [td.a['href'] for td in html.select('td') if td.a and td.a['href'].endswith('.tar')]"
   ]
  },
  {
   "cell_type": "code",
   "execution_count": 5,
   "metadata": {},
   "outputs": [
    {
     "name": "stdout",
     "output_type": "stream",
     "text": [
      "https://patents.reedtech.com//downloads/GrantYellowBook/1900-2000/19091228_19101004_yb2_D00027.tar\n",
      "https://patents.reedtech.com//downloads/GrantYellowBook/1900-2000/19090323_19091221_yb2_D00026.tar\n",
      "https://patents.reedtech.com//downloads/GrantYellowBook/1900-2000/19080505_19090316_yb2_D00025.tar\n",
      "https://patents.reedtech.com//downloads/GrantYellowBook/1900-2000/19070528_19080428_yb2_D00024.tar\n",
      "https://patents.reedtech.com//downloads/GrantYellowBook/1900-2000/19060710_19070521_yb2_D00023.tar\n",
      "https://patents.reedtech.com//downloads/GrantYellowBook/1900-2000/19050801_19060703_yb2_D00022.tar\n",
      "https://patents.reedtech.com//downloads/GrantYellowBook/1900-2000/19040802_19050725_yb2_D00021.tar\n",
      "https://patents.reedtech.com//downloads/GrantYellowBook/1900-2000/19030818_19040726_yb2_D00020.tar\n",
      "https://patents.reedtech.com//downloads/GrantYellowBook/1900-2000/19020805_19030811_yb2_D00019.tar\n",
      "https://patents.reedtech.com//downloads/GrantYellowBook/1900-2000/19010611_19020729_yb2_D00018.tar\n",
      "https://patents.reedtech.com//downloads/GrantYellowBook/1900-2000/19000320_19010604_yb2_D00017.tar\n"
     ]
    }
   ],
   "source": [
    "url_base = \"https://patents.reedtech.com/\"\n",
    "for t in tarballs:\n",
    "    parts = t.split('/')\n",
    "    filename = parts[-1]\n",
    "    if filename.startswith('190'):\n",
    "        print(f\"{url_base}/{t}\")"
   ]
  },
  {
   "cell_type": "code",
   "execution_count": 7,
   "metadata": {},
   "outputs": [],
   "source": [
    "# num_bytes = 0\n",
    "# for td in html.select('td'):\n",
    "#     if td.text.isnumeric():\n",
    "#         num_bytes += int(td.text)\n",
    "# print(f\"size (TB): {num_bytes/1e12}\")"
   ]
  }
 ],
 "metadata": {
  "kernelspec": {
   "display_name": "Python 3",
   "language": "python",
   "name": "python3"
  },
  "language_info": {
   "codemirror_mode": {
    "name": "ipython",
    "version": 3
   },
   "file_extension": ".py",
   "mimetype": "text/x-python",
   "name": "python",
   "nbconvert_exporter": "python",
   "pygments_lexer": "ipython3",
   "version": "3.7.6"
  }
 },
 "nbformat": 4,
 "nbformat_minor": 4
}
