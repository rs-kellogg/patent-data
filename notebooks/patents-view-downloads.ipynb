{
 "cells": [
  {
   "cell_type": "code",
   "execution_count": 1,
   "metadata": {},
   "outputs": [],
   "source": [
    "from requests import get\n",
    "from requests.exceptions import RequestException\n",
    "from contextlib import closing\n",
    "from bs4 import BeautifulSoup\n",
    "import urllib\n",
    "from patent.harvest import *"
   ]
  },
  {
   "cell_type": "code",
   "execution_count": 2,
   "metadata": {},
   "outputs": [],
   "source": [
    "base_url = \"https://www.patentsview.org/download/\""
   ]
  },
  {
   "cell_type": "code",
   "execution_count": 3,
   "metadata": {},
   "outputs": [],
   "source": [
    "soup = BeautifulSoup(simple_get(base_url), \"html.parser\")"
   ]
  },
  {
   "cell_type": "code",
   "execution_count": 5,
   "metadata": {},
   "outputs": [
    {
     "name": "stdout",
     "output_type": "stream",
     "text": [
      "Found the URL: http://s3.amazonaws.com/data.patentsview.org/20191231/download/inventor_gender.tsv.zip\n",
      "Found the URL: http://s3.amazonaws.com/data.patentsview.org/20191231/download/application.tsv.zip\n",
      "Found the URL: http://s3.amazonaws.com/data.patentsview.org/20191231/download/assignee.tsv.zip\n",
      "Found the URL: http://s3.amazonaws.com/data.patentsview.org/20191231/download/botanic.tsv.zip\n",
      "Found the URL: http://s3.amazonaws.com/data.patentsview.org/20191231/download/brf_sum_text.tsv.zip\n",
      "Found the URL: http://s3.amazonaws.com/data.patentsview.org/20191008/download/claim.tsv.zip\n",
      "Found the URL: http://s3.amazonaws.com/data.patentsview.org/20191231/download/cpc_current.tsv.zip\n",
      "Found the URL: http://s3.amazonaws.com/data.patentsview.org/20191231/download/cpc_group.tsv.zip\n",
      "Found the URL: http://s3.amazonaws.com/data.patentsview.org/20191231/download/cpc_subgroup.tsv.zip\n",
      "Found the URL: http://s3.amazonaws.com/data.patentsview.org/20191231/download/cpc_subsection.tsv.zip\n",
      "Found the URL: http://s3.amazonaws.com/data.patentsview.org/20191231/download/draw_desc_text.tsv.zip\n",
      "Found the URL: http://s3.amazonaws.com/data.patentsview.org/20191231/download/foreign_priority.tsv.zip\n",
      "Found the URL: http://s3.amazonaws.com/data.patentsview.org/20191231/download/figures.tsv.zip\n",
      "Found the URL: http://s3.amazonaws.com/data.patentsview.org/20191231/download/foreigncitation.tsv.zip\n",
      "Found the URL: http://s3.amazonaws.com/data.patentsview.org/20191231/download/government_interest.tsv.zip\n",
      "Found the URL: http://s3.amazonaws.com/data.patentsview.org/20191231/download/government_organization.tsv.zip\n",
      "Found the URL: http://s3.amazonaws.com/data.patentsview.org/20191231/download/inventor.tsv.zip\n",
      "Found the URL: http://s3.amazonaws.com/data.patentsview.org/20191231/download/ipcr.tsv.zip\n",
      "Found the URL: http://s3.amazonaws.com/data.patentsview.org/20191231/download/lawyer.tsv.zip\n",
      "Found the URL: http://s3.amazonaws.com/data.patentsview.org/20191231/download/location.tsv.zip\n",
      "Found the URL: http://s3.amazonaws.com/data.patentsview.org/20191231/download/location_assignee.tsv.zip\n",
      "Found the URL: http://s3.amazonaws.com/data.patentsview.org/20191231/download/location_inventor.tsv.zip\n",
      "Found the URL: http://s3.amazonaws.com/data.patentsview.org/20191231/download/mainclass.tsv.zip\n",
      "Found the URL: http://s3.amazonaws.com/data.patentsview.org/20191231/download/mainclass_current.tsv.zip\n",
      "Found the URL: http://s3.amazonaws.com/data.patentsview.org/20191231/download/nber.tsv.zip\n",
      "Found the URL: http://s3.amazonaws.com/data.patentsview.org/20191231/download/nber_category.tsv.zip\n",
      "Found the URL: http://s3.amazonaws.com/data.patentsview.org/20191231/download/nber_subcategory.tsv.zip\n",
      "Found the URL: http://s3.amazonaws.com/data.patentsview.org/20191231/download/non_inventor_applicant.tsv.zip\n",
      "Found the URL: http://s3.amazonaws.com/data.patentsview.org/20191231/download/otherreference.tsv.zip\n",
      "Found the URL: http://s3.amazonaws.com/data.patentsview.org/20191231/download/patent.tsv.zip\n",
      "Found the URL: http://s3.amazonaws.com/data.patentsview.org/20191231/download/patent_assignee.tsv.zip\n",
      "Found the URL: http://s3.amazonaws.com/data.patentsview.org/20191231/download/patent_contractawardnumber.tsv.zip\n",
      "Found the URL: http://s3.amazonaws.com/data.patentsview.org/20191231/download/patent_govintorg.tsv.zip\n",
      "Found the URL: http://s3.amazonaws.com/data.patentsview.org/20191231/download/patent_inventor.tsv.zip\n",
      "Found the URL: http://s3.amazonaws.com/data.patentsview.org/20191231/download/patent_lawyer.tsv.zip\n",
      "Found the URL: http://s3.amazonaws.com/data.patentsview.org/20191231/download/pct_data.tsv.zip\n",
      "Found the URL: http://s3.amazonaws.com/data.patentsview.org/20191231/download/persistent_inventor_disambig.tsv.zip\n",
      "Found the URL: http://s3.amazonaws.com/data.patentsview.org/20191231/download/rawassignee.tsv.zip\n",
      "Found the URL: http://s3.amazonaws.com/data.patentsview.org/20191231/download/rawexaminer.tsv.zip\n",
      "Found the URL: http://s3.amazonaws.com/data.patentsview.org/20191231/download/rawinventor.tsv.zip\n",
      "Found the URL: http://s3.amazonaws.com/data.patentsview.org/20191231/download/rawlawyer.tsv.zip\n",
      "Found the URL: http://s3.amazonaws.com/data.patentsview.org/20191231/download/rawlocation.tsv.zip\n",
      "Found the URL: http://s3.amazonaws.com/data.patentsview.org/20191231/download/rel_app_text.tsv.zip\n",
      "Found the URL: http://s3.amazonaws.com/data.patentsview.org/20191231/download/subclass.tsv.zip\n",
      "Found the URL: http://s3.amazonaws.com/data.patentsview.org/20191231/download/subclass_current.tsv.zip\n",
      "Found the URL: http://s3.amazonaws.com/data.patentsview.org/20191231/download/us_term_of_grant.tsv.zip\n",
      "Found the URL: http://s3.amazonaws.com/data.patentsview.org/20191231/download/usapplicationcitation.tsv.zip\n",
      "Found the URL: http://s3.amazonaws.com/data.patentsview.org/20191231/download/uspatentcitation.tsv.zip\n",
      "Found the URL: http://s3.amazonaws.com/data.patentsview.org/20191231/download/uspc.tsv.zip\n",
      "Found the URL: http://s3.amazonaws.com/data.patentsview.org/20191231/download/uspc_current.tsv.zip\n",
      "Found the URL: http://s3.amazonaws.com/data.patentsview.org/20191231/download/usreldoc.tsv.zip\n",
      "Found the URL: http://s3.amazonaws.com/data.patentsview.org/20191231/download/wipo.tsv.zip\n",
      "Found the URL: http://s3.amazonaws.com/data.patentsview.org/20191231/download/wipo_field.tsv.zip\n",
      "Count: 53\n"
     ]
    }
   ],
   "source": [
    "count = 0\n",
    "for a in soup.find_all('a', href=True):\n",
    "    href = a[\"href\"]\n",
    "    if href.endswith(\"zip\"):\n",
    "        url = a[\"href\"]\n",
    "        filename = url.split(\"/\")[-1]\n",
    "        print(f\"Found the URL: {url}\")\n",
    "        count += 1\n",
    "#         r = get(url, allow_redirects=True)\n",
    "#         open(filename, \"wb\").write(r.content)\n",
    "\n",
    "print(f\"Count: {count}\")"
   ]
  },
  {
   "cell_type": "code",
   "execution_count": 6,
   "metadata": {},
   "outputs": [],
   "source": [
    "base_url = \"https://www.patentsview.org/download/detail_desc_text.html\""
   ]
  },
  {
   "cell_type": "code",
   "execution_count": 7,
   "metadata": {},
   "outputs": [],
   "source": [
    "soup = BeautifulSoup(simple_get(base_url), \"html.parser\")"
   ]
  },
  {
   "cell_type": "code",
   "execution_count": 8,
   "metadata": {},
   "outputs": [
    {
     "name": "stdout",
     "output_type": "stream",
     "text": [
      "Found the URL: http://data.patentsview.org/detail-description-text/detail-desc-text-2019.tsv.zip\n",
      "Found the URL: http://data.patentsview.org/detail-description-text/detail-desc-text-2018.tsv.zip\n",
      "Found the URL: http://data.patentsview.org/detail-description-text/detail-desc-text-2017.tsv.zip\n",
      "Found the URL: http://data.patentsview.org/detail-description-text/detail-desc-text-2016.tsv.zip\n",
      "Found the URL: http://data.patentsview.org/detail-description-text/detail-desc-text-2015.tsv.zip\n",
      "Found the URL: http://data.patentsview.org/detail-description-text/detail-desc-text-2014.tsv.zip\n",
      "Found the URL: http://data.patentsview.org/detail-description-text/detail-desc-text-2013.tsv.zip\n",
      "Found the URL: http://data.patentsview.org/detail-description-text/detail-desc-text-2012.tsv.zip\n",
      "Found the URL: http://data.patentsview.org/detail-description-text/detail-desc-text-2011.tsv.zip\n",
      "Found the URL: http://data.patentsview.org/detail-description-text/detail-desc-text-2010.tsv.zip\n",
      "Found the URL: http://data.patentsview.org/detail-description-text/detail-desc-text-2009.tsv.zip\n",
      "Found the URL: http://data.patentsview.org/detail-description-text/detail-desc-text-2008.tsv.zip\n",
      "Found the URL: http://data.patentsview.org/detail-description-text/detail-desc-text-2007.tsv.zip\n",
      "Found the URL: http://data.patentsview.org/detail-description-text/detail-desc-text-2006.tsv.zip\n",
      "Found the URL: http://data.patentsview.org/detail-description-text/detail-desc-text-2005.tsv.zip\n",
      "Found the URL: http://data.patentsview.org/detail-description-text/detail-desc-text-2004.tsv.zip\n",
      "Found the URL: http://data.patentsview.org/detail-description-text/detail-desc-text-2003.tsv.zip\n",
      "Found the URL: http://data.patentsview.org/detail-description-text/detail-desc-text-2002.tsv.zip\n",
      "Found the URL: http://data.patentsview.org/detail-description-text/detail-desc-text-2001.tsv.zip\n",
      "Found the URL: http://data.patentsview.org/detail-description-text/detail-desc-text-2000.tsv.zip\n",
      "Found the URL: http://data.patentsview.org/detail-description-text/detail-desc-text-1999.tsv.zip\n",
      "Found the URL: http://data.patentsview.org/detail-description-text/detail-desc-text-1998.tsv.zip\n",
      "Found the URL: http://data.patentsview.org/detail-description-text/detail-desc-text-1997.tsv.zip\n",
      "Found the URL: http://data.patentsview.org/detail-description-text/detail-desc-text-1996.tsv.zip\n",
      "Found the URL: http://data.patentsview.org/detail-description-text/detail-desc-text-1995.tsv.zip\n",
      "Found the URL: http://data.patentsview.org/detail-description-text/detail-desc-text-1994.tsv.zip\n",
      "Found the URL: http://data.patentsview.org/detail-description-text/detail-desc-text-1993.tsv.zip\n",
      "Found the URL: http://data.patentsview.org/detail-description-text/detail-desc-text-1992.tsv.zip\n",
      "Found the URL: http://data.patentsview.org/detail-description-text/detail-desc-text-1991.tsv.zip\n",
      "Found the URL: http://data.patentsview.org/detail-description-text/detail-desc-text-1990.tsv.zip\n",
      "Found the URL: http://data.patentsview.org/detail-description-text/detail-desc-text-1989.tsv.zip\n",
      "Found the URL: http://data.patentsview.org/detail-description-text/detail-desc-text-1988.tsv.zip\n",
      "Found the URL: http://data.patentsview.org/detail-description-text/detail-desc-text-1987.tsv.zip\n",
      "Found the URL: http://data.patentsview.org/detail-description-text/detail-desc-text-1986.tsv.zip\n",
      "Found the URL: http://data.patentsview.org/detail-description-text/detail-desc-text-1985.tsv.zip\n",
      "Found the URL: http://data.patentsview.org/detail-description-text/detail-desc-text-1984.tsv.zip\n",
      "Found the URL: http://data.patentsview.org/detail-description-text/detail-desc-text-1983.tsv.zip\n",
      "Found the URL: http://data.patentsview.org/detail-description-text/detail-desc-text-1982.tsv.zip\n",
      "Found the URL: http://data.patentsview.org/detail-description-text/detail-desc-text-1981.tsv.zip\n",
      "Found the URL: http://data.patentsview.org/detail-description-text/detail-desc-text-1980.tsv.zip\n",
      "Found the URL: http://data.patentsview.org/detail-description-text/detail-desc-text-1979.tsv.zip\n",
      "Found the URL: http://data.patentsview.org/detail-description-text/detail-desc-text-1978.tsv.zip\n",
      "Found the URL: http://data.patentsview.org/detail-description-text/detail-desc-text-1977.tsv.zip\n",
      "Found the URL: http://data.patentsview.org/detail-description-text/detail-desc-text-1976.tsv.zip\n",
      "Count: 44\n"
     ]
    }
   ],
   "source": [
    "count = 0\n",
    "for a in soup.find_all('a', href=True):\n",
    "    href = a[\"href\"]\n",
    "    if href.endswith(\"zip\"):\n",
    "        url = a[\"href\"]\n",
    "        filename = url.split(\"/\")[-1]\n",
    "        print(f\"Found the URL: {url}\")\n",
    "        count += 1\n",
    "#         r = get(url, allow_redirects=True)\n",
    "#         open(filename, \"wb\").write(r.content)\n",
    "\n",
    "print(f\"Count: {count}\")"
   ]
  },
  {
   "cell_type": "code",
   "execution_count": null,
   "metadata": {},
   "outputs": [],
   "source": []
  }
 ],
 "metadata": {
  "kernelspec": {
   "display_name": "Python 3",
   "language": "python",
   "name": "python3"
  },
  "language_info": {
   "codemirror_mode": {
    "name": "ipython",
    "version": 3
   },
   "file_extension": ".py",
   "mimetype": "text/x-python",
   "name": "python",
   "nbconvert_exporter": "python",
   "pygments_lexer": "ipython3",
   "version": "3.7.6"
  }
 },
 "nbformat": 4,
 "nbformat_minor": 4
}
